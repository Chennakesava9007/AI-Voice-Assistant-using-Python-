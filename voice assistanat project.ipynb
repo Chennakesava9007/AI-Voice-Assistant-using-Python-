{
 "cells": [
  {
   "cell_type": "code",
   "execution_count": 1,
   "id": "54c90966-184e-4c59-9474-963e13c02bf2",
   "metadata": {},
   "outputs": [
    {
     "name": "stdout",
     "output_type": "stream",
     "text": [
      "Requirement already satisfied: SpeechRecognition in c:\\users\\admin\\appdata\\roaming\\python\\python312\\site-packages (3.14.3)\n",
      "Requirement already satisfied: pyttsx3 in c:\\users\\admin\\appdata\\roaming\\python\\python312\\site-packages (2.98)\n",
      "Requirement already satisfied: wikipedia in c:\\users\\admin\\appdata\\roaming\\python\\python312\\site-packages (1.4.0)\n",
      "Requirement already satisfied: pyjokes in c:\\users\\admin\\appdata\\roaming\\python\\python312\\site-packages (0.8.3)\n",
      "Requirement already satisfied: typing-extensions in c:\\users\\admin\\appdata\\roaming\\python\\python312\\site-packages (from SpeechRecognition) (4.12.2)\n",
      "Requirement already satisfied: comtypes in c:\\users\\admin\\appdata\\roaming\\python\\python312\\site-packages (from pyttsx3) (1.4.11)\n",
      "Requirement already satisfied: pypiwin32 in c:\\users\\admin\\appdata\\roaming\\python\\python312\\site-packages (from pyttsx3) (223)\n",
      "Requirement already satisfied: pywin32 in c:\\users\\admin\\appdata\\roaming\\python\\python312\\site-packages (from pyttsx3) (309)\n",
      "Requirement already satisfied: beautifulsoup4 in c:\\users\\admin\\appdata\\roaming\\python\\python312\\site-packages (from wikipedia) (4.13.3)\n",
      "Requirement already satisfied: requests<3.0.0,>=2.0.0 in c:\\users\\admin\\appdata\\roaming\\python\\python312\\site-packages (from wikipedia) (2.32.3)\n",
      "Requirement already satisfied: charset-normalizer<4,>=2 in c:\\users\\admin\\appdata\\roaming\\python\\python312\\site-packages (from requests<3.0.0,>=2.0.0->wikipedia) (3.4.1)\n",
      "Requirement already satisfied: idna<4,>=2.5 in c:\\users\\admin\\appdata\\roaming\\python\\python312\\site-packages (from requests<3.0.0,>=2.0.0->wikipedia) (2.10)\n",
      "Requirement already satisfied: urllib3<3,>=1.21.1 in c:\\users\\admin\\appdata\\roaming\\python\\python312\\site-packages (from requests<3.0.0,>=2.0.0->wikipedia) (2.3.0)\n",
      "Requirement already satisfied: certifi>=2017.4.17 in c:\\users\\admin\\appdata\\roaming\\python\\python312\\site-packages (from requests<3.0.0,>=2.0.0->wikipedia) (2025.1.31)\n",
      "Requirement already satisfied: soupsieve>1.2 in c:\\users\\admin\\appdata\\roaming\\python\\python312\\site-packages (from beautifulsoup4->wikipedia) (2.6)\n"
     ]
    },
    {
     "name": "stderr",
     "output_type": "stream",
     "text": [
      "\n",
      "[notice] A new release of pip is available: 25.0.1 -> 25.1.1\n",
      "[notice] To update, run: python.exe -m pip install --upgrade pip\n"
     ]
    }
   ],
   "source": [
    "!pip install SpeechRecognition pyttsx3 wikipedia pyjokes"
   ]
  },
  {
   "cell_type": "code",
   "execution_count": null,
   "id": "bbf4d4ce-2be2-490f-9426-dc6b4bbc3c52",
   "metadata": {
    "scrolled": true
   },
   "outputs": [
    {
     "name": "stdout",
     "output_type": "stream",
     "text": [
      "Assistant: Good Morning!\n",
      "Assistant: I am your voice assistant. How can I help you today?\n",
      "Listening... 🎤\n",
      "You (voice): open Google\n",
      "Assistant: Opening Google...\n",
      "Listening... 🎤\n",
      "Assistant: Sorry, I didn't understand what you said.\n"
     ]
    }
   ],
   "source": [
    "# main Code\n",
    "# Install required packages:\n",
    "# !pip install SpeechRecognition pyttsx3 wikipedia pyjokes\n",
    "\n",
    "import speech_recognition as sr\n",
    "import pyttsx3\n",
    "import datetime\n",
    "import wikipedia\n",
    "import webbrowser\n",
    "import os\n",
    "import pyjokes\n",
    "\n",
    "# Text-to-Speech Function\n",
    "def speak(text):\n",
    "    print(f\"Assistant: {text}\")\n",
    "    try:\n",
    "        engine = pyttsx3.init()\n",
    "        engine.say(text)\n",
    "        engine.runAndWait()\n",
    "    except:\n",
    "        print(\"Speech output not supported.\")\n",
    "\n",
    "# Greet the user\n",
    "def wish_user():\n",
    "    hour = int(datetime.datetime.now().hour)\n",
    "    if hour < 12:\n",
    "        speak(\"Good Morning!\")\n",
    "    elif hour < 18:\n",
    "        speak(\"Good Afternoon!\")\n",
    "    else:\n",
    "        speak(\"Good Evening!\")\n",
    "    speak(\"I am your voice assistant. How can I help you today?\")\n",
    "\n",
    "# Choice between voice or typing\n",
    "def take_command(use_microphone=True):\n",
    "    if use_microphone:\n",
    "        recognizer = sr.Recognizer()\n",
    "        with sr.Microphone() as source:\n",
    "            print(\"Listening... 🎤\")\n",
    "            audio = recognizer.listen(source)\n",
    "\n",
    "        try:\n",
    "            command = recognizer.recognize_google(audio)\n",
    "            print(f\"You (voice): {command}\")\n",
    "            return command.lower()\n",
    "        except sr.UnknownValueError:\n",
    "            speak(\"Sorry, I didn't understand what you said.\")\n",
    "            return \"\"\n",
    "        except sr.RequestError:\n",
    "            speak(\"Sorry, the speech service is down.\")\n",
    "            return \"\"\n",
    "    else:\n",
    "        return input(\"You (type your command): \").lower()\n",
    "\n",
    "# Main Assistant Function\n",
    "def run_assistant(use_microphone=True):\n",
    "    wish_user()\n",
    "    while True:\n",
    "        query = take_command(use_microphone)\n",
    "\n",
    "        if 'wikipedia' in query:\n",
    "            speak(\"Searching Wikipedia...\")\n",
    "            query = query.replace(\"wikipedia\", \"\")\n",
    "            try:\n",
    "                result = wikipedia.summary(query, sentences=2)\n",
    "                speak(\"According to Wikipedia:\")\n",
    "                speak(result)\n",
    "            except:\n",
    "                speak(\"Sorry, I couldn't find anything.\")\n",
    "\n",
    "        elif 'open youtube' in query:\n",
    "            speak(\"Opening YouTube...\")\n",
    "            webbrowser.open(\"https://www.youtube.com\")\n",
    "\n",
    "        elif 'open google' in query:\n",
    "            speak(\"Opening Google...\")\n",
    "            webbrowser.open(\"https://www.google.com\")\n",
    "\n",
    "        elif 'time' in query:\n",
    "            strTime = datetime.datetime.now().strftime(\"%H:%M:%S\")\n",
    "            speak(f\"The current time is {strTime}\")\n",
    "\n",
    "        elif 'joke' in query:\n",
    "            joke = pyjokes.get_joke()\n",
    "            speak(joke)\n",
    "\n",
    "        elif 'exit' in query or 'bye' in query:\n",
    "            speak(\"Goodbye! Have a nice day!\")\n",
    "            break\n",
    "\n",
    "        elif query.strip() == \"\":\n",
    "            continue  # skip empty queries\n",
    "\n",
    "        else:\n",
    "            speak(\"Sorry, I didn't understand that. Try again.\")\n",
    "\n",
    "run_assistant(use_microphone=True)"
   ]
  }
 ],
 "metadata": {
  "kernelspec": {
   "display_name": "Python 3 (ipykernel)",
   "language": "python",
   "name": "python3"
  },
  "language_info": {
   "codemirror_mode": {
    "name": "ipython",
    "version": 3
   },
   "file_extension": ".py",
   "mimetype": "text/x-python",
   "name": "python",
   "nbconvert_exporter": "python",
   "pygments_lexer": "ipython3",
   "version": "3.12.7"
  }
 },
 "nbformat": 4,
 "nbformat_minor": 5
}
